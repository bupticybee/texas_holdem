{
 "cells": [
  {
   "cell_type": "code",
   "execution_count": 9,
   "metadata": {},
   "outputs": [
    {
     "name": "stdout",
     "output_type": "stream",
     "text": [
      "The autoreload extension is already loaded. To reload it, use:\n",
      "  %reload_ext autoreload\n",
      "The line_profiler extension is already loaded. To reload it, use:\n",
      "  %reload_ext line_profiler\n"
     ]
    }
   ],
   "source": [
    "%load_ext autoreload\n",
    "%autoreload 2\n",
    "%load_ext line_profiler\n",
    "%matplotlib inline\n",
    "\n",
    "import sys\n",
    "import os\n",
    "import yaml\n",
    "import itertools\n",
    "sys.path.append('../')\n",
    "from utils.utils import ModelLoader,DepLoader\n",
    "from matplotlib import pyplot as plt\n",
    "from timeit import timeit  \n",
    "from scipy.special import comb, perm"
   ]
  },
  {
   "cell_type": "code",
   "execution_count": 2,
   "metadata": {},
   "outputs": [
    {
     "name": "stderr",
     "output_type": "stream",
     "text": [
      "/root/anaconda3/envs/py36/lib/python3.6/site-packages/ipykernel_launcher.py:2: YAMLLoadWarning: calling yaml.load() without Loader=... is deprecated, as the default Loader is unsafe. Please read https://msg.pyyaml.org/load for full details.\n",
      "  \n"
     ]
    }
   ],
   "source": [
    "with open('../config/rule_shortdeck_with_holdemrule.yaml') as fhdl:\n",
    "    cfg = yaml.load(fhdl)"
   ]
  },
  {
   "cell_type": "code",
   "execution_count": 3,
   "metadata": {},
   "outputs": [],
   "source": [
    "env = DepLoader(cfg)"
   ]
  },
  {
   "cell_type": "markdown",
   "metadata": {},
   "source": [
    "# 手牌规则"
   ]
  },
  {
   "cell_type": "code",
   "execution_count": 5,
   "metadata": {},
   "outputs": [
    {
     "data": {
      "text/plain": [
       "[('2d', '4c', '4d', 'Ad', 'Kh'),\n",
       " ('4d', '5s', '6c', '9h', 'Th'),\n",
       " ('6h', '7d', '7s', '9s', 'Tc'),\n",
       " ('3c', '3d', '3s', '5h', 'Ts'),\n",
       " ('2s', '5c', '7h', '9c', 'Kd')]"
      ]
     },
     "execution_count": 5,
     "metadata": {},
     "output_type": "execute_result"
    }
   ],
   "source": [
    "list(env.compairer.card5dic.keys())[:5]"
   ]
  },
  {
   "cell_type": "code",
   "execution_count": 6,
   "metadata": {},
   "outputs": [
    {
     "data": {
      "text/plain": [
       "2598960"
      ]
     },
     "execution_count": 6,
     "metadata": {},
     "output_type": "execute_result"
    }
   ],
   "source": [
    "len(env.compairer.card5dic)"
   ]
  },
  {
   "cell_type": "code",
   "execution_count": 15,
   "metadata": {},
   "outputs": [
    {
     "data": {
      "text/plain": [
       "376992"
      ]
     },
     "execution_count": 15,
     "metadata": {},
     "output_type": "execute_result"
    }
   ],
   "source": [
    "keys = list(env.compairer.card5dic.keys())\n",
    "def is_inrange(inpair,posses):\n",
    "    instr = ''.join(inpair)\n",
    "    for one in posses:\n",
    "        if one in instr:\n",
    "            return True\n",
    "    return False \n",
    "shortkeys = [i for i in keys if not is_inrange(i,'2345')]\n",
    "len(shortkeys)"
   ]
  },
  {
   "cell_type": "code",
   "execution_count": 16,
   "metadata": {},
   "outputs": [
    {
     "data": {
      "text/plain": [
       "[('6h', '7d', '7s', '9s', 'Tc'),\n",
       " ('8d', '9h', 'Ad', 'As', 'Td'),\n",
       " ('6h', '7d', 'Ah', 'As', 'Js'),\n",
       " ('8d', '9s', 'Qc', 'Qd', 'Qh'),\n",
       " ('6s', '7c', 'Ac', 'Ah', 'Qs'),\n",
       " ('9h', 'Ah', 'Qd', 'Qh', 'Ts'),\n",
       " ('9s', 'Ac', 'Ad', 'Jd', 'Td'),\n",
       " ('7s', 'Ah', 'Kc', 'Qh', 'Td'),\n",
       " ('6s', '7c', '7d', 'Ad', 'Qh'),\n",
       " ('6d', '6h', '7s', '9d', 'Td')]"
      ]
     },
     "execution_count": 16,
     "metadata": {},
     "output_type": "execute_result"
    }
   ],
   "source": [
    "shortkeys[:10]"
   ]
  },
  {
   "cell_type": "code",
   "execution_count": 18,
   "metadata": {},
   "outputs": [
    {
     "data": {
      "text/plain": [
       "[(('2d', '4c', '4d', 'Ad', 'Kh'), 5535),\n",
       " (('4d', '5s', '6c', '9h', 'Th'), 7366),\n",
       " (('6h', '7d', '7s', '9s', 'Tc'), 5031),\n",
       " (('3c', '3d', '3s', '5h', 'Ts'), 2378),\n",
       " (('2s', '5c', '7h', '9c', 'Kd'), 6959),\n",
       " (('5d', '7c', 'Jc', 'Kd', 'Ks'), 3668),\n",
       " (('4h', '7h', '8d', 'Jc', 'Qs'), 7058),\n",
       " (('2d', '2h', '3h', '4h', 'Qc'), 6101),\n",
       " (('2c', '3d', '5h', '9d', 'Td'), 7374),\n",
       " (('4h', '7c', 'Qh', 'Qs', 'Th'), 3917)]"
      ]
     },
     "execution_count": 18,
     "metadata": {},
     "output_type": "execute_result"
    }
   ],
   "source": [
    "list(env.compairer.card5dic.items())[:10]"
   ]
  },
  {
   "cell_type": "markdown",
   "metadata": {},
   "source": [
    "# OCHS"
   ]
  },
  {
   "cell_type": "code",
   "execution_count": null,
   "metadata": {},
   "outputs": [],
   "source": []
  }
 ],
 "metadata": {
  "kernelspec": {
   "display_name": "Python 3",
   "language": "python",
   "name": "python3"
  },
  "language_info": {
   "codemirror_mode": {
    "name": "ipython",
    "version": 3
   },
   "file_extension": ".py",
   "mimetype": "text/x-python",
   "name": "python",
   "nbconvert_exporter": "python",
   "pygments_lexer": "ipython3",
   "version": "3.6.8"
  }
 },
 "nbformat": 4,
 "nbformat_minor": 2
}
