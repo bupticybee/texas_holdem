{
 "cells": [
  {
   "cell_type": "code",
   "execution_count": 65,
   "metadata": {},
   "outputs": [
    {
     "name": "stdout",
     "output_type": "stream",
     "text": [
      "The autoreload extension is already loaded. To reload it, use:\n",
      "  %reload_ext autoreload\n",
      "The line_profiler extension is already loaded. To reload it, use:\n",
      "  %reload_ext line_profiler\n"
     ]
    }
   ],
   "source": [
    "%load_ext autoreload\n",
    "%autoreload 2\n",
    "%load_ext line_profiler\n",
    "%matplotlib inline\n",
    "\n",
    "import sys\n",
    "import os\n",
    "import yaml\n",
    "import itertools\n",
    "sys.path.append('../')\n",
    "from utils.utils import ModelLoader,DepLoader\n",
    "from sklearn.externals import joblib\n",
    "from utils import utils\n",
    "from matplotlib import pyplot as plt\n",
    "from timeit import timeit  \n",
    "from scipy.special import comb, perm\n",
    "import numpy as np\n",
    "import pandas as pd\n",
    "import random\n",
    "plt.style.use('ggplot')"
   ]
  },
  {
   "cell_type": "code",
   "execution_count": 2,
   "metadata": {},
   "outputs": [
    {
     "name": "stderr",
     "output_type": "stream",
     "text": [
      "/root/anaconda3/envs/py36/lib/python3.6/site-packages/ipykernel_launcher.py:2: YAMLLoadWarning: calling yaml.load() without Loader=... is deprecated, as the default Loader is unsafe. Please read https://msg.pyyaml.org/load for full details.\n",
      "  \n"
     ]
    }
   ],
   "source": [
    "with open('../config/rule_shortdeck_with_holdemrule.yaml') as fhdl:\n",
    "    cfg = yaml.load(fhdl)"
   ]
  },
  {
   "cell_type": "code",
   "execution_count": 3,
   "metadata": {},
   "outputs": [],
   "source": [
    "env = DepLoader(cfg)"
   ]
  },
  {
   "cell_type": "markdown",
   "metadata": {},
   "source": [
    "# 手牌规则"
   ]
  },
  {
   "cell_type": "code",
   "execution_count": 4,
   "metadata": {},
   "outputs": [
    {
     "data": {
      "text/plain": [
       "376992"
      ]
     },
     "execution_count": 4,
     "metadata": {},
     "output_type": "execute_result"
    }
   ],
   "source": [
    "keys = list(env.compairer.card5dic.keys())\n",
    "def is_inrange(inpair,posses):\n",
    "    instr = ''.join(inpair)\n",
    "    for one in posses:\n",
    "        if one in instr:\n",
    "            return True\n",
    "    return False \n",
    "shortkeys = [i for i in keys if not is_inrange(i,'2345')]\n",
    "len(shortkeys)"
   ]
  },
  {
   "cell_type": "markdown",
   "metadata": {},
   "source": [
    "# short deck rules"
   ]
  },
  {
   "cell_type": "code",
   "execution_count": 5,
   "metadata": {},
   "outputs": [],
   "source": [
    "from utils.deuces_shortdeck import Card,Deck,Evaluator"
   ]
  },
  {
   "cell_type": "code",
   "execution_count": 6,
   "metadata": {},
   "outputs": [],
   "source": [
    "eva = Evaluator()"
   ]
  },
  {
   "cell_type": "code",
   "execution_count": 7,
   "metadata": {},
   "outputs": [],
   "source": [
    "colors = 'cdhs'\n",
    "numbers = '6789TJQKA'"
   ]
  },
  {
   "cell_type": "code",
   "execution_count": 8,
   "metadata": {},
   "outputs": [],
   "source": [
    "cards = [''.join(i) for i in  list(itertools.product(numbers,colors))]"
   ]
  },
  {
   "cell_type": "code",
   "execution_count": 9,
   "metadata": {},
   "outputs": [
    {
     "data": {
      "text/plain": [
       "36"
      ]
     },
     "execution_count": 9,
     "metadata": {},
     "output_type": "execute_result"
    }
   ],
   "source": [
    "len(cards)"
   ]
  },
  {
   "cell_type": "raw",
   "metadata": {},
   "source": [
    "pb = utils.ProgressBar(worksum = comb(len(cards),5))\n",
    "pb.startjob()\n",
    "evaluator = Evaluator()\n",
    "card2rank = {}\n",
    "rank2card = {}\n",
    "rank2number = {}\n",
    "\n",
    "iternum = 0\n",
    "for each in itertools.combinations(cards,5):\n",
    "    iternum += 1\n",
    "    board = [\n",
    "    ]\n",
    "    each = tuple(sorted(list(each)))\n",
    "    hand = [\n",
    "       Card.new(i) for i in each\n",
    "    ]\n",
    "    val = evaluator.evaluate(board, hand)\n",
    "    card2rank[each] = val\n",
    "    rank2card[val] = each\n",
    "    rank2number.setdefault(val,0)\n",
    "    rank2number[val] += 1\n",
    "    if iternum % 1000 == 0:\n",
    "        pb.complete(1000)\n",
    "    "
   ]
  },
  {
   "cell_type": "raw",
   "metadata": {},
   "source": [
    "joblib.dump(card2rank, '../data/card5_dic_shortdeck.pkl')"
   ]
  },
  {
   "cell_type": "raw",
   "metadata": {},
   "source": [
    "with open('../data/card5_dic_sorted_shortdeck.txt','w') as whdl:\n",
    "    for i in card2rank:\n",
    "        whdl.write(\"{},{}\\n\".format('-'.join(i),card2rank[i]))"
   ]
  },
  {
   "cell_type": "raw",
   "metadata": {},
   "source": [
    "len(card2rank)"
   ]
  },
  {
   "cell_type": "raw",
   "metadata": {},
   "source": [
    "sorted_objects = sorted(list(card2rank.items()),key=lambda x:x[1])"
   ]
  },
  {
   "cell_type": "raw",
   "metadata": {},
   "source": [
    "pb = utils.ProgressBar(worksum = comb(36,7))\n",
    "pb.startjob()\n",
    "evaluator = Evaluator()\n",
    "fullcards2rank = {}\n",
    "iternum = 0\n",
    "for each in itertools.combinations(cards,7):\n",
    "    iternum += 1\n",
    "    board = [\n",
    "    ]\n",
    "    hand = [\n",
    "       Card.new(i) for i in each\n",
    "    ]\n",
    "    val = evaluator.evaluate(board, hand)\n",
    "    each = tuple(sorted(each))\n",
    "    fullcards2rank[each] = val\n",
    "    if iternum % 1000 == 0:\n",
    "        pb.complete(1000)\n",
    "    "
   ]
  },
  {
   "cell_type": "raw",
   "metadata": {},
   "source": [
    "with open('../data/card7_dic_sorted_shortdeck.txt','w') as whdl:\n",
    "    for i in fullcards2rank:\n",
    "        whdl.write(\"{},{}\\n\".format('-'.join(i),fullcards2rank[i]))"
   ]
  },
  {
   "cell_type": "code",
   "execution_count": 10,
   "metadata": {},
   "outputs": [],
   "source": [
    "fullcards2rank = {}\n",
    "with open('../data/card7_dic_sorted_shortdeck.txt','r') as fhdl:\n",
    "    for line in fhdl:\n",
    "        one_cards,rank = line.strip().split(',')\n",
    "        rank = int(rank)\n",
    "        one_cards = tuple(one_cards.split('-'))\n",
    "        fullcards2rank[one_cards] = rank\n",
    "        #whdl.write(\"{},{}\\n\".format('-'.join(i),fullcards2rank[i]))"
   ]
  },
  {
   "cell_type": "code",
   "execution_count": 11,
   "metadata": {},
   "outputs": [],
   "source": [
    "card2rank = {}\n",
    "with open('../data/card5_dic_sorted_shortdeck.txt','r') as fhdl:\n",
    "    for line in fhdl:\n",
    "        one_cards,rank = line.strip().split(',')\n",
    "        rank = int(rank)\n",
    "        one_cards = tuple(one_cards.split('-'))\n",
    "        card2rank[one_cards] = rank\n",
    "        #whdl.write(\"{},{}\\n\".format('-'.join(i),fullcards2rank[i]))"
   ]
  },
  {
   "cell_type": "markdown",
   "metadata": {},
   "source": [
    "## 校验7张牌和5张牌字典一致性"
   ]
  },
  {
   "cell_type": "raw",
   "metadata": {},
   "source": [
    "random_7combo = random.choice(list(fullcards2rank.keys()))\n",
    "random_7combo = tuple(sorted(list(random_7combo)))\n",
    "rankA = fullcards2rank[random_7combo]\n",
    "\n",
    "rankB = np.inf\n",
    "for each in itertools.combinations(random_7combo,5):\n",
    "    iternum += 1\n",
    "    board = [\n",
    "    ]\n",
    "    each = tuple(sorted(list(each)))\n",
    "    rankB = min(rankB,card2rank[each])\n",
    "    \n",
    "assert(rankA == rankB)\n",
    "print(rankA,rankB,random_7combo)\n"
   ]
  },
  {
   "cell_type": "code",
   "execution_count": 12,
   "metadata": {},
   "outputs": [
    {
     "name": "stdout",
     "output_type": "stream",
     "text": [
      "50M\t../data/card5_dic_sorted.txt\n",
      "7.1M\t../data/card5_dic_sorted_shortdeck.txt\n",
      "201M\t../data/card7_dic_sorted_shortdeck.txt\n"
     ]
    }
   ],
   "source": [
    "!du -sh ../data/*.txt"
   ]
  },
  {
   "cell_type": "markdown",
   "metadata": {},
   "source": [
    "# ABSTRACTION - Histogram Of Hand Strength"
   ]
  },
  {
   "cell_type": "code",
   "execution_count": 13,
   "metadata": {},
   "outputs": [],
   "source": [
    "# TODO finish abstraction"
   ]
  },
  {
   "cell_type": "markdown",
   "metadata": {},
   "source": [
    "## a naive approach"
   ]
  },
  {
   "cell_type": "code",
   "execution_count": 14,
   "metadata": {},
   "outputs": [],
   "source": [
    "def get_rank(each):\n",
    "    hand = [\n",
    "       Card.new(i) for i in each\n",
    "    ]\n",
    "    return evaluator.evaluate([], hand)"
   ]
  },
  {
   "cell_type": "code",
   "execution_count": null,
   "metadata": {},
   "outputs": [],
   "source": [
    "hands = ['7s','7h']\n",
    "\n",
    "deckcards = cards[:]\n",
    "for one_card in hands:\n",
    "    deckcards.remove(one_card)\n",
    "    \n",
    "ranks_hist_array = []\n",
    "combs = list(itertools.combinations(deckcards, 7 - len(hands)))\n",
    "\n",
    "pb = utils.ProgressBar(worksum=len(combs))\n",
    "pb.startjob()\n",
    "\n",
    "ind = 0\n",
    "for public in combs:\n",
    "    ind += 1\n",
    "    board = hands + list(public)\n",
    "    \n",
    "    lowest_rank = np.inf\n",
    "    for one_five_combo in itertools.combinations(board, 5):\n",
    "        one_five_combo = tuple(sorted(one_five_combo))\n",
    "        lowest_rank = min(card2rank[one_five_combo],lowest_rank)\n",
    "        \n",
    "    opponent_cards = set(deckcards) - set(board)\n",
    "    oppo_ranks = []\n",
    "    for one_opponent_prive in itertools.combinations(opponent_cards, len(hands)):\n",
    "        opponent_board = list(one_opponent_prive) + list(public)\n",
    "        assert(len(opponent_board) == 7)\n",
    "        lowest_rank_oppo = np.inf\n",
    "        for one_five_combo in itertools.combinations(opponent_board, 5):\n",
    "            one_five_combo = tuple(sorted(one_five_combo))\n",
    "            lowest_rank_oppo = min(card2rank[one_five_combo],lowest_rank_oppo)\n",
    "        oppo_ranks.append(lowest_rank_oppo)\n",
    "    oppo_ranks = np.asarray(oppo_ranks)\n",
    "    \n",
    "    prob = np.mean(oppo_ranks > lowest_rank)\n",
    "    ranks_hist_array.append(prob)\n",
    "    if ind % 100 == 0:\n",
    "        pb.complete(100)\n",
    "        \n"
   ]
  },
  {
   "cell_type": "code",
   "execution_count": 22,
   "metadata": {},
   "outputs": [
    {
     "data": {
      "text/plain": [
       "(('6c', '6d', '6h', '6s', '7c'), ['7s', '7h'], 0.0)"
      ]
     },
     "execution_count": 22,
     "metadata": {},
     "output_type": "execute_result"
    }
   ],
   "source": [
    "public,hands,prob"
   ]
  },
  {
   "cell_type": "code",
   "execution_count": 180,
   "metadata": {},
   "outputs": [
    {
     "data": {
      "text/plain": [
       "array([[<matplotlib.axes._subplots.AxesSubplot object at 0x7f78f8abb3c8>]],\n",
       "      dtype=object)"
      ]
     },
     "execution_count": 180,
     "metadata": {},
     "output_type": "execute_result"
    },
    {
     "data": {
      "image/png": "[encoded data removed]",
      "text/plain": [
       "<Figure size 432x288 with 1 Axes>"
      ]
     },
     "metadata": {
      "needs_background": "light"
     },
     "output_type": "display_data"
    }
   ],
   "source": [
    "# for ['Ts','Js']\n",
    "pd.DataFrame(ranks_hist_array).hist(bins=50)"
   ]
  },
  {
   "cell_type": "code",
   "execution_count": 175,
   "metadata": {},
   "outputs": [
    {
     "data": {
      "text/plain": [
       "array([[<matplotlib.axes._subplots.AxesSubplot object at 0x7f78f00dfc88>]],\n",
       "      dtype=object)"
      ]
     },
     "execution_count": 175,
     "metadata": {},
     "output_type": "execute_result"
    },
    {
     "data": {
      "image/png": "[encoded data removed]",
      "text/plain": [
       "<Figure size 432x288 with 1 Axes>"
      ]
     },
     "metadata": {
      "needs_background": "light"
     },
     "output_type": "display_data"
    }
   ],
   "source": [
    "# for ['7s','7h']\n",
    "pd.DataFrame(ranks_hist_array).hist(bins=50)"
   ]
  },
  {
   "cell_type": "markdown",
   "metadata": {},
   "source": [
    "# an attempt to accelerate"
   ]
  },
  {
   "cell_type": "code",
   "execution_count": 23,
   "metadata": {},
   "outputs": [],
   "source": [
    "card2ind = {}\n",
    "ind2card = {}\n",
    "for ind,one_card in enumerate(cards):\n",
    "    card2ind[one_card] = ind\n",
    "    ind2card[ind] = one_card \n",
    "\n",
    "buckets_len = comb(36 -  5,2)\n",
    "dp_mat = np.zeros([len(cards),int(buckets_len)],dtype = np.int)\n",
    "\n",
    "deckcards = cards[:]\n",
    "combs = list(itertools.combinations(deckcards, 5))"
   ]
  },
  {
   "cell_type": "code",
   "execution_count": 394,
   "metadata": {},
   "outputs": [
    {
     "name": "stdout",
     "output_type": "stream",
     "text": [
      "avg: 0.5037128712871286  39.66 % [===================>-------------------------------] 149500/376992 \t used:1347s eta:2050 s"
     ]
    },
    {
     "ename": "KeyboardInterrupt",
     "evalue": "",
     "output_type": "error",
     "traceback": [
      "\u001b[0;31m---------------------------------------------------------------------------\u001b[0m",
      "\u001b[0;31mKeyboardInterrupt\u001b[0m                         Traceback (most recent call last)",
      "\u001b[0;32m<ipython-input-394-5761cee5d85e>\u001b[0m in \u001b[0;36m<module>\u001b[0;34m\u001b[0m\n\u001b[1;32m     12\u001b[0m     \u001b[0mprivate_buckets\u001b[0m \u001b[0;34m=\u001b[0m \u001b[0;34m[\u001b[0m\u001b[0;34m]\u001b[0m\u001b[0;34m\u001b[0m\u001b[0;34m\u001b[0m\u001b[0m\n\u001b[1;32m     13\u001b[0m     \u001b[0;32mfor\u001b[0m \u001b[0mone_private\u001b[0m \u001b[0;32min\u001b[0m \u001b[0mitertools\u001b[0m\u001b[0;34m.\u001b[0m\u001b[0mcombinations\u001b[0m\u001b[0;34m(\u001b[0m\u001b[0mcards_except_public\u001b[0m\u001b[0;34m,\u001b[0m\u001b[0;36m2\u001b[0m\u001b[0;34m)\u001b[0m\u001b[0;34m:\u001b[0m\u001b[0;34m\u001b[0m\u001b[0;34m\u001b[0m\u001b[0m\n\u001b[0;32m---> 14\u001b[0;31m         \u001b[0mfullboard\u001b[0m \u001b[0;34m=\u001b[0m \u001b[0mlist\u001b[0m\u001b[0;34m(\u001b[0m\u001b[0mone_private\u001b[0m\u001b[0;34m)\u001b[0m \u001b[0;34m+\u001b[0m \u001b[0mlist\u001b[0m\u001b[0;34m(\u001b[0m\u001b[0mpublic\u001b[0m\u001b[0;34m)\u001b[0m\u001b[0;34m\u001b[0m\u001b[0;34m\u001b[0m\u001b[0m\n\u001b[0m\u001b[1;32m     15\u001b[0m         \u001b[0mfullboard\u001b[0m \u001b[0;34m=\u001b[0m \u001b[0mtuple\u001b[0m\u001b[0;34m(\u001b[0m\u001b[0msorted\u001b[0m\u001b[0;34m(\u001b[0m\u001b[0mfullboard\u001b[0m\u001b[0;34m)\u001b[0m\u001b[0;34m)\u001b[0m\u001b[0;34m\u001b[0m\u001b[0;34m\u001b[0m\u001b[0m\n\u001b[1;32m     16\u001b[0m         \u001b[0mrank\u001b[0m \u001b[0;34m=\u001b[0m \u001b[0mfullcards2rank\u001b[0m\u001b[0;34m[\u001b[0m\u001b[0mfullboard\u001b[0m\u001b[0;34m]\u001b[0m\u001b[0;34m\u001b[0m\u001b[0;34m\u001b[0m\u001b[0m\n",
      "\u001b[0;31mKeyboardInterrupt\u001b[0m: "
     ]
    }
   ],
   "source": [
    "\n",
    "private2ranks = {}\n",
    "\n",
    "pb = utils.ProgressBar(worksum=len(combs))\n",
    "pb.startjob()\n",
    "\n",
    "comb_num = 0\n",
    "for public in combs:\n",
    "    cards_except_public = set(cards[:]) - set(public)\n",
    "    cards_except_public = list(cards_except_public)\n",
    "    \n",
    "    private_buckets = []\n",
    "    for one_private in itertools.combinations(cards_except_public,2):\n",
    "        fullboard = list(one_private) + list(public)\n",
    "        fullboard = tuple(sorted(fullboard))\n",
    "        rank = fullcards2rank[fullboard]\n",
    "        private_buckets.append([sorted(one_private),rank])\n",
    "        \n",
    "    \n",
    "    bucket_ele_number = comb(len(cards_except_public),2)\n",
    "    private_buckets = sorted(private_buckets,key=lambda x:x[1])[::-1]\n",
    "    \n",
    "    ranknum = {}\n",
    "    beats = {}\n",
    "    dp_mat -= dp_mat\n",
    "    \n",
    "    before_card2num = []\n",
    "    for ind,(private_hand,rank) in enumerate(private_buckets):\n",
    "        ranknum.setdefault(rank,0)\n",
    "        ranknum[rank] += 1\n",
    "        beat_number = ind + 1 - (float(ranknum[rank]) / 2)\n",
    "        \n",
    "        beats.setdefault(rank,0)\n",
    "        beats[rank] = max(beats[rank],beat_number)\n",
    "        \n",
    "        for one_private in private_hand:\n",
    "            card_ind = card2ind[one_private]\n",
    "            dp_mat[card_ind,ind] = 1\n",
    "        if ind > 0:\n",
    "            dp_mat[:,ind] += dp_mat[:,ind - 1]\n",
    "    \n",
    "    percents = []\n",
    "    for ind,(private_hand,rank) in enumerate(private_buckets):\n",
    "        #percent = float(ind) / bucket_ele_number # 不能这么除\n",
    "        # TODO 这个percent仍然不对，没有排除所有手牌中重复的\n",
    "        sub_num = (sum([dp_mat[card2ind[i],ind - 1] for i in private_hand])) if ind else 0\n",
    "        percent = (float(beats[rank]) - sub_num ) / (bucket_ele_number - (len(cards) - 5) * 2 + 1)\n",
    "        \n",
    "        private_hand = tuple(private_hand)\n",
    "        private2ranks.setdefault(private_hand,[])\n",
    "        private2ranks[private_hand].append(percent)\n",
    "        percents.append(percent)\n",
    "        \n",
    "    avg =  np.mean(percents)\n",
    "    if avg > 0.6 or avg < 0.4:\n",
    "        raise\n",
    "        \n",
    "    comb_num += 1\n",
    "    if comb_num % 100 == 0:\n",
    "        pb.info = \"avg: {} \".format(avg)\n",
    "        pb.complete(100)\n",
    "        "
   ]
  },
  {
   "cell_type": "code",
   "execution_count": null,
   "metadata": {},
   "outputs": [],
   "source": [
    "hands = ['6s','6h']\n",
    "probs = private2ranks[tuple(sorted(hands))]\n",
    "pd.DataFrame(probs).hist(bins=50)\n",
    "print(np.mean(probs))"
   ]
  },
  {
   "cell_type": "code",
   "execution_count": 338,
   "metadata": {},
   "outputs": [
    {
     "name": "stdout",
     "output_type": "stream",
     "text": [
      "0.5667167636455144\n"
     ]
    },
    {
     "data": {
      "image/png": "[encoded data removed]",
      "text/plain": [
       "<Figure size 432x288 with 1 Axes>"
      ]
     },
     "metadata": {
      "needs_background": "light"
     },
     "output_type": "display_data"
    }
   ],
   "source": [
    "hands = ['Ks','Ad']\n",
    "probs = private2ranks[tuple(sorted(hands))]\n",
    "pd.DataFrame(probs).hist(bins=50)\n",
    "print(np.mean(probs))"
   ]
  },
  {
   "cell_type": "code",
   "execution_count": 306,
   "metadata": {},
   "outputs": [
    {
     "name": "stdout",
     "output_type": "stream",
     "text": [
      "0.4047529528003299\n"
     ]
    },
    {
     "data": {
      "image/png": "[encoded data removed]",
      "text/plain": [
       "<Figure size 432x288 with 1 Axes>"
      ]
     },
     "metadata": {
      "needs_background": "light"
     },
     "output_type": "display_data"
    }
   ],
   "source": [
    "hands = ['6h','6s']\n",
    "probs = private2ranks[tuple(sorted(hands))]\n",
    "pd.DataFrame(probs).hist(bins=50)\n",
    "print(np.mean(probs))"
   ]
  },
  {
   "cell_type": "code",
   "execution_count": 343,
   "metadata": {},
   "outputs": [
    {
     "name": "stdout",
     "output_type": "stream",
     "text": [
      " 100.00 % [==================================================>] 630/630.0 \t used:55s eta:0 s"
     ]
    }
   ],
   "source": [
    "entire_probs = []\n",
    "hand_prob = []\n",
    "\n",
    "pb = utils.ProgressBar(worksum = comb(len(cards),2))\n",
    "pb.startjob()\n",
    "for hands in itertools.combinations(cards,2):\n",
    "    probs = private2ranks[tuple(sorted(hands))]\n",
    "    avg_prob = np.mean(probs)\n",
    "    entire_probs.append(avg_prob)\n",
    "    hand_prob.append([hands,avg_prob])\n",
    "    pb.complete(1)"
   ]
  },
  {
   "cell_type": "code",
   "execution_count": 335,
   "metadata": {},
   "outputs": [],
   "source": [
    "hand_prob = sorted(hand_prob,key=lambda x:x[1],reverse=True)"
   ]
  },
  {
   "cell_type": "markdown",
   "metadata": {},
   "source": [
    "## quicker(using process pool)"
   ]
  },
  {
   "cell_type": "code",
   "execution_count": 15,
   "metadata": {},
   "outputs": [],
   "source": [
    "import multiprocessing\n",
    "import time"
   ]
  },
  {
   "cell_type": "code",
   "execution_count": 16,
   "metadata": {},
   "outputs": [],
   "source": [
    "cards = [''.join(i) for i in  list(itertools.product(numbers,colors))]\n",
    "card2ind = {}\n",
    "ind2card = {}\n",
    "for ind,one_card in enumerate(cards):\n",
    "    card2ind[one_card] = ind\n",
    "    ind2card[ind] = one_card \n",
    "\n",
    "buckets_len = comb(36 -  5,2)\n",
    "\n",
    "deckcards = cards[:]\n",
    "combs = list(itertools.combinations(deckcards, 5))"
   ]
  },
  {
   "cell_type": "code",
   "execution_count": 21,
   "metadata": {},
   "outputs": [],
   "source": [
    "thread_number = 5\n",
    "\n",
    "pb = utils.ProgressBar(worksum=len(combs) // thread_number) \n",
    "pb.startjob()\n",
    "\n",
    "def process_one_public(inarr):\n",
    "    public,processed_number = inarr\n",
    "    cards_except_public = set(cards[:]) - set(public)\n",
    "    cards_except_public = list(cards_except_public)\n",
    "    \n",
    "    private_buckets = []\n",
    "    for one_private in itertools.combinations(cards_except_public,2):\n",
    "        fullboard = list(one_private) + list(public)\n",
    "        fullboard = tuple(sorted(fullboard))\n",
    "        rank = fullcards2rank[fullboard]\n",
    "        private_buckets.append([sorted(one_private),rank])\n",
    "        \n",
    "    \n",
    "    bucket_ele_number = comb(len(cards_except_public),2)\n",
    "    private_buckets = sorted(private_buckets,key=lambda x:x[1])[::-1]\n",
    "    \n",
    "    ranknum = {}\n",
    "    beats = {}\n",
    "    dp_mat = np.zeros([len(cards),int(buckets_len) + 1],dtype = np.int)\n",
    "    #dp_mat -= dp_mat\n",
    "    \n",
    "    last_diff_index = -1\n",
    "    before_type_last_index = []\n",
    "    \n",
    "    rev_last_diff_ind = len(private_buckets) - 1\n",
    "    same_type_last_index = []\n",
    "    for ind,(private_hand,rank) in enumerate(private_buckets):\n",
    "        rev_ind = len(private_buckets) - 1 - ind\n",
    "        if rev_ind < len(private_buckets) - 1 and private_buckets[rev_ind][1] != private_buckets[rev_ind + 1][1]:\n",
    "            rev_last_diff_ind = rev_ind\n",
    "        same_type_last_index.append(rev_last_diff_ind)\n",
    "        \n",
    "        if ind > 0 and rank != private_buckets[ind - 1][1]: # 如果当前元素的rank 和前一个不同\n",
    "            last_diff_index = ind - 1\n",
    "        before_type_last_index.append(last_diff_index)\n",
    "            \n",
    "        ranknum.setdefault(rank,0)\n",
    "        ranknum[rank] += 1\n",
    "        beat_number = ind + 1 - (float(ranknum[rank]) )# TODO add this / 2)\n",
    "        \n",
    "        beats.setdefault(rank,0)\n",
    "        beats[rank] = max(beats[rank],beat_number)\n",
    "        \n",
    "        for one_private in private_hand:\n",
    "            card_ind = card2ind[one_private]\n",
    "            dp_mat[card_ind,ind] = 1\n",
    "        if ind > 0:\n",
    "            dp_mat[:,ind] += dp_mat[:,ind - 1]\n",
    "            \n",
    "    before_type_last_index.append(0)\n",
    "    same_type_last_index = same_type_last_index[::-1]\n",
    "\n",
    "    results = []\n",
    "    #print(\"index\\tbeats[rank]\\tprivate_hand\\tnum_beat\")\n",
    "    for ind,(private_hand,rank) in enumerate(private_buckets):\n",
    "        #percent = float(ind) / bucket_ele_number # 不能这么除\n",
    "        # TODO subnum的计算需要在同类型手牌最后一个, beats没有必要, 但是需要加上同类型的去掉手牌中出现牌的牌中的一半\n",
    "        # same_type_last_index = 同类型手牌最后一个index\n",
    "        # before_type_last_index = 前面不同类型手牌最后一个index\n",
    "        # 总beats数量 = beats[rank] - 两个dp_mat[一张手牌,before_type_last_index] ##(这是前面不同rank的有效牌数量)\n",
    "        #               + { ranknum[rank] - 两个 (dp_mat[一张手牌,same_type_last_index] - \n",
    "        #                                   dp_mat[一张手牌,before_type_last_index]  + 3)\n",
    "        #                 } / 2\n",
    "        \n",
    "        ## old solution\n",
    "        #sub_num = (sum([dp_mat[card2ind[i],ind - 1] for i in private_hand])) if ind else 0\n",
    "        #print(\"{}\\t{}\\t\\t{}\\t{}\".format(ind,beats[rank],private_hand,sub_num))\n",
    "        #percent = (float(beats[rank]) - sub_num ) / (bucket_ele_number - (len(cards) - 5) * 2 + 1)\n",
    "        \n",
    "        last_diff_index = before_type_last_index[ind]\n",
    "        rev_last_diff_ind = same_type_last_index[ind]\n",
    "        \n",
    "        #sub_num = (sum([dp_mat[card2ind[i],last_diff_index] for i in private_hand]))\n",
    "        #percent = float(last_diff_index + 1 - sub_num) / (bucket_ele_number - (len(cards) - 5) * 2 + 1)\n",
    "        \n",
    "        beat_number = beats[rank] - sum([dp_mat[card2ind[i],last_diff_index] for i in private_hand]) \\\n",
    "                    +  (ranknum[rank] -\n",
    "                         sum([(dp_mat[card2ind[i],rev_last_diff_ind] - dp_mat[card2ind[i],last_diff_index]) \\\n",
    "                           for i in private_hand]) + 2\n",
    "                    ) / 2\n",
    "        percent = float(beat_number) / (bucket_ele_number - (len(cards) - 5) * 2 + 1)\n",
    "        #print(\"{}\\t{}\\t\\t{}\\t{}\".format(ind,beats[rank],private_hand,beat_number))\n",
    "            \n",
    "        private_hand = tuple(private_hand)\n",
    "        #private2ranks.setdefault(private_hand,[])\n",
    "        #private2ranks[private_hand].append(percent)\n",
    "        results.append((private_hand,percent))\n",
    "        \n",
    "    if processed_number % 50 == 0:\n",
    "        pb.complete(50)\n",
    "    return results"
   ]
  },
  {
   "cell_type": "code",
   "execution_count": 22,
   "metadata": {},
   "outputs": [
    {
     "data": {
      "text/plain": [
       "376992"
      ]
     },
     "execution_count": 22,
     "metadata": {},
     "output_type": "execute_result"
    }
   ],
   "source": [
    "len(combs)"
   ]
  },
  {
   "cell_type": "code",
   "execution_count": 19,
   "metadata": {},
   "outputs": [
    {
     "name": "stdout",
     "output_type": "stream",
     "text": [
      " 0.07 % [>--------------------------------------------------] 50/75398 \t used:10s eta:16182 s"
     ]
    }
   ],
   "source": [
    "res = process_one_public((('6c', '6d', '7c', '7d', '9c'),0))"
   ]
  },
  {
   "cell_type": "raw",
   "metadata": {},
   "source": [
    "pb = utils.ProgressBar(worksum=len(combs)) \n",
    "pb.startjob()\n",
    "results = []\n",
    "for ind,public in enumerate(combs):\n",
    "    msg = (public,ind)\n",
    "    res = process_one_public(msg)\n",
    "    results.append(res)\n"
   ]
  },
  {
   "cell_type": "code",
   "execution_count": 23,
   "metadata": {},
   "outputs": [
    {
     "name": "stdout",
     "output_type": "stream",
     "text": [
      "processing begin\n",
      " 106.63 % [=====================================================>] 80400/75398 \t used:771s eta:-47 sTotal Time Spend : 754.6637852191925\n"
     ]
    }
   ],
   "source": [
    "private2ranks = {}\n",
    "\n",
    "starttime = time.time()\n",
    "\n",
    "pool = multiprocessing.Pool(processes = thread_number)\n",
    "\n",
    "results = []\n",
    "for ind,public in enumerate(combs):\n",
    "    msg = (public,ind)\n",
    "    one_res = pool.apply_async(process_one_public, (msg, ))   #维持执行的进程总数为processes，当一个进程执行完毕后会添加新的进程进去\n",
    "    results.append(one_res)\n",
    "    \n",
    "print(\"processing begin\")\n",
    "pool.close()\n",
    "pool.join()   \n",
    "\n",
    "for i in range(len(results)):\n",
    "    results[i] = results[i].get()\n",
    "\n",
    "endtime = time.time()\n",
    "print(\"Total Time Spend : {}\".format(endtime - starttime))\n",
    "pool.terminate()\n",
    "del pool"
   ]
  },
  {
   "cell_type": "code",
   "execution_count": 25,
   "metadata": {},
   "outputs": [
    {
     "data": {
      "text/plain": [
       "376992"
      ]
     },
     "execution_count": 25,
     "metadata": {},
     "output_type": "execute_result"
    }
   ],
   "source": [
    "len(results)"
   ]
  },
  {
   "cell_type": "code",
   "execution_count": 26,
   "metadata": {},
   "outputs": [
    {
     "data": {
      "text/plain": [
       "465"
      ]
     },
     "execution_count": 26,
     "metadata": {},
     "output_type": "execute_result"
    }
   ],
   "source": [
    "len(results[0])"
   ]
  },
  {
   "cell_type": "code",
   "execution_count": 27,
   "metadata": {},
   "outputs": [
    {
     "data": {
      "text/plain": [
       "(('7d', '7s'), 0.0012376237623762376)"
      ]
     },
     "execution_count": 27,
     "metadata": {},
     "output_type": "execute_result"
    }
   ],
   "source": [
    "results[0][0]"
   ]
  },
  {
   "cell_type": "code",
   "execution_count": 28,
   "metadata": {},
   "outputs": [
    {
     "name": "stdout",
     "output_type": "stream",
     "text": [
      " 99.74 % [=================================================>-] 376000/376992 \t used:106s eta:0 s"
     ]
    }
   ],
   "source": [
    "private2ranks = {}\n",
    "\n",
    "pb = utils.ProgressBar(worksum=len(results)) \n",
    "pb.startjob()\n",
    "\n",
    "ind = 0\n",
    "for one_result in results:\n",
    "    ind += 1\n",
    "    for  (private_hand,percent) in one_result:\n",
    "        private2ranks.setdefault(private_hand,[])\n",
    "        private2ranks[private_hand].append(percent)\n",
    "    if ind % 1000 == 0:\n",
    "        pb.complete(1000)"
   ]
  },
  {
   "cell_type": "code",
   "execution_count": 48,
   "metadata": {},
   "outputs": [
    {
     "data": {
      "text/plain": [
       "630"
      ]
     },
     "execution_count": 48,
     "metadata": {},
     "output_type": "execute_result"
    }
   ],
   "source": [
    "len(private2ranks)"
   ]
  },
  {
   "cell_type": "code",
   "execution_count": 42,
   "metadata": {},
   "outputs": [
    {
     "name": "stdout",
     "output_type": "stream",
     "text": [
      "0.47798664176189926\n"
     ]
    },
    {
     "data": {
      "image/png": "[encoded data removed]",
      "text/plain": [
       "<Figure size 432x288 with 1 Axes>"
      ]
     },
     "metadata": {
      "needs_background": "light"
     },
     "output_type": "display_data"
    }
   ],
   "source": [
    "hands = ['7s','7h']\n",
    "probs = private2ranks[tuple(sorted(hands))]\n",
    "pd.DataFrame(probs).hist(bins=50)\n",
    "print(np.mean(probs))"
   ]
  },
  {
   "cell_type": "markdown",
   "metadata": {},
   "source": [
    "# 对整套牌中 所有轮数 做 abstraction "
   ]
  },
  {
   "cell_type": "code",
   "execution_count": 2,
   "metadata": {},
   "outputs": [
    {
     "name": "stderr",
     "output_type": "stream",
     "text": [
      "/root/anaconda3/envs/py36/lib/python3.6/site-packages/ipykernel_launcher.py:2: YAMLLoadWarning: calling yaml.load() without Loader=... is deprecated, as the default Loader is unsafe. Please read https://msg.pyyaml.org/load for full details.\n",
      "  \n"
     ]
    }
   ],
   "source": [
    "with open('../config/abstraction_shortdeck.yaml') as fhdl:\n",
    "    cfg = yaml.load(fhdl)"
   ]
  },
  {
   "cell_type": "code",
   "execution_count": 3,
   "metadata": {},
   "outputs": [],
   "source": [
    "env = DepLoader(cfg)"
   ]
  },
  {
   "cell_type": "code",
   "execution_count": 4,
   "metadata": {},
   "outputs": [],
   "source": [
    "deck = env.abstraction_bucket_generator.deck"
   ]
  },
  {
   "cell_type": "code",
   "execution_count": 6,
   "metadata": {},
   "outputs": [
    {
     "name": "stderr",
     "output_type": "stream",
     "text": [
      "100%|██████████| 376992/376992 [1:32:10<00:00, 68.17it/s] \n"
     ]
    }
   ],
   "source": [
    "env.abstraction_bucket_generator.generate_dict_allpublic()"
   ]
  },
  {
   "cell_type": "code",
   "execution_count": 61,
   "metadata": {},
   "outputs": [
    {
     "name": "stderr",
     "output_type": "stream",
     "text": [
      "100%|██████████| 376992/376992 [04:08<00:00, 1514.64it/s]\n"
     ]
    }
   ],
   "source": [
    "env.abstraction_bucket_generator.generate_histrogram(public_card_number=0,bins=50)"
   ]
  },
  {
   "cell_type": "code",
   "execution_count": 72,
   "metadata": {},
   "outputs": [
    {
     "data": {
      "text/plain": [
       "<BarContainer object of 50 artists>"
      ]
     },
     "execution_count": 72,
     "metadata": {},
     "output_type": "execute_result"
    },
    {
     "data": {
      "image/png": "[encoded data removed]",
      "text/plain": [
       "<Figure size 432x288 with 1 Axes>"
      ]
     },
     "metadata": {},
     "output_type": "display_data"
    }
   ],
   "source": [
    "hands = ['7s','7h']\n",
    "data = env.abstraction_bucket_generator.histdic[tuple(sorted(hands))]\n",
    "plt.bar(range(len(data)), data,width=1.0)"
   ]
  },
  {
   "cell_type": "code",
   "execution_count": null,
   "metadata": {},
   "outputs": [],
   "source": []
  }
 ],
 "metadata": {
  "kernelspec": {
   "display_name": "Python 3",
   "language": "python",
   "name": "python3"
  },
  "language_info": {
   "codemirror_mode": {
    "name": "ipython",
    "version": 3
   },
   "file_extension": ".py",
   "mimetype": "text/x-python",
   "name": "python",
   "nbconvert_exporter": "python",
   "pygments_lexer": "ipython3",
   "version": "3.6.8"
  }
 },
 "nbformat": 4,
 "nbformat_minor": 2
}
