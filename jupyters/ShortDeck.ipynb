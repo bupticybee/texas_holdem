{
 "cells": [
  {
   "cell_type": "code",
   "execution_count": 1,
   "metadata": {},
   "outputs": [],
   "source": [
    "%load_ext autoreload\n",
    "%autoreload 2\n",
    "%load_ext line_profiler\n",
    "%matplotlib inline\n",
    "\n",
    "import sys\n",
    "import os\n",
    "import yaml\n",
    "import itertools\n",
    "sys.path.append('../')\n",
    "from utils.utils import ModelLoader,DepLoader\n",
    "from matplotlib import pyplot as plt\n",
    "from timeit import timeit  "
   ]
  },
  {
   "cell_type": "code",
   "execution_count": 125,
   "metadata": {},
   "outputs": [
    {
     "name": "stderr",
     "output_type": "stream",
     "text": [
      "/root/anaconda3/envs/py36/lib/python3.6/site-packages/ipykernel_launcher.py:2: YAMLLoadWarning: calling yaml.load() without Loader=... is deprecated, as the default Loader is unsafe. Please read https://msg.pyyaml.org/load for full details.\n",
      "  \n"
     ]
    }
   ],
   "source": [
    "with open('../config/rule_shortdeck.yaml') as fhdl:\n",
    "    cfg = yaml.load(fhdl)"
   ]
  },
  {
   "cell_type": "code",
   "execution_count": 126,
   "metadata": {},
   "outputs": [],
   "source": [
    "env = DepLoader(cfg)"
   ]
  },
  {
   "cell_type": "raw",
   "metadata": {},
   "source": [
    "plt.figure(figsize=(240,40))\n",
    "env.tree_builder.plot_tree(depth_limit=5)\n",
    "plt.savefig('../imgs/tree_limit5.png')"
   ]
  },
  {
   "cell_type": "code",
   "execution_count": 127,
   "metadata": {},
   "outputs": [],
   "source": [
    "depth = 6\n",
    "json = env.tree_builder.gen_km_json(\"../imgs/tree_depth{}.km\".format(depth),limit=depth,ret_json=True)"
   ]
  },
  {
   "cell_type": "markdown",
   "metadata": {},
   "source": [
    "# 查看游戏总状态数"
   ]
  },
  {
   "cell_type": "code",
   "execution_count": 128,
   "metadata": {},
   "outputs": [],
   "source": [
    "hiss = []\n",
    "roots = []\n",
    "def count_dealcard(root,depth=0):\n",
    "    if root.children is not None:\n",
    "        num = 0\n",
    "        for one_child in root.children.values():\n",
    "            num += count_dealcard(one_child)\n",
    "        return num\n",
    "    else:\n",
    "        if 'terminal' in root.to_string():\n",
    "            hiss.append(root.bet_history)\n",
    "            roots.append(root)\n",
    "        return 0 if 'terminal' in root.to_string() else 1"
   ]
  },
  {
   "cell_type": "code",
   "execution_count": 129,
   "metadata": {},
   "outputs": [
    {
     "data": {
      "text/plain": [
       "47662"
      ]
     },
     "execution_count": 129,
     "metadata": {},
     "output_type": "execute_result"
    }
   ],
   "source": [
    "count_dealcard(env.tree_builder.root)"
   ]
  },
  {
   "cell_type": "code",
   "execution_count": 7,
   "metadata": {},
   "outputs": [
    {
     "name": "stdout",
     "output_type": "stream",
     "text": [
      "891 ms ± 2.52 ms per loop (mean ± std. dev. of 7 runs, 1 loop each)\n"
     ]
    }
   ],
   "source": [
    "%timeit count_dealcard(env.tree_builder.root)"
   ]
  },
  {
   "cell_type": "code",
   "execution_count": 8,
   "metadata": {},
   "outputs": [
    {
     "data": {
      "text/plain": [
       "Timer unit: 1e-06 s\n",
       "\n",
       "Total time: 1.82193 s\n",
       "File: <ipython-input-5-3dbdc1fb9032>\n",
       "Function: count_dealcard at line 3\n",
       "\n",
       "Line #      Hits         Time  Per Hit   % Time  Line Contents\n",
       "==============================================================\n",
       "     3                                           def count_dealcard(root,depth=0):\n",
       "     4    156709        83402      0.5      4.6      if root.children is not None:\n",
       "     5     61385        23555      0.4      1.3          num = 0\n",
       "     6    218093       115805      0.5      6.4          for one_child in root.children.values():\n",
       "     7    156708        76103      0.5      4.2              num += count_dealcard(one_child)\n",
       "     8     61385        22854      0.4      1.3          return num\n",
       "     9                                               else:\n",
       "    10     95324       751080      7.9     41.2          if 'terminal' in root.to_string():\n",
       "    11     47662        28820      0.6      1.6              hiss.append(root.bet_history)\n",
       "    12     47662        23456      0.5      1.3              roots.append(root)\n",
       "    13     95324       696858      7.3     38.2          return 0 if 'terminal' in root.to_string() else 1"
      ]
     },
     "metadata": {},
     "output_type": "display_data"
    }
   ],
   "source": [
    "%lprun -f count_dealcard count_dealcard(env.tree_builder.root)"
   ]
  },
  {
   "cell_type": "code",
   "execution_count": 9,
   "metadata": {},
   "outputs": [
    {
     "data": {
      "text/plain": [
       "476620"
      ]
     },
     "execution_count": 9,
     "metadata": {},
     "output_type": "execute_result"
    }
   ],
   "source": [
    "len(hiss)"
   ]
  },
  {
   "cell_type": "markdown",
   "metadata": {},
   "source": [
    "# 查看叶子节点的bet history"
   ]
  },
  {
   "cell_type": "code",
   "execution_count": 10,
   "metadata": {},
   "outputs": [
    {
     "name": "stdout",
     "output_type": "stream",
     "text": [
      "['call', 'check', 'check', 'bet_1', 'raise_2', 'raise_5', 'call', 'check', 'bet_7', 'raise_21', 'raise_84', 'call', 'check', 'bet_2', 'fold']\n",
      "[100.0, 98.0]\n"
     ]
    }
   ],
   "source": [
    "index = 5000 + 1\n",
    "print(hiss[index])\n",
    "print(roots[index].committed)"
   ]
  },
  {
   "cell_type": "markdown",
   "metadata": {},
   "source": [
    "# 查看card abstraction 工作状态"
   ]
  },
  {
   "cell_type": "code",
   "execution_count": 18,
   "metadata": {},
   "outputs": [
    {
     "name": "stdout",
     "output_type": "stream",
     "text": [
      "['Qc', 'Ah', '6s', 'As']\n"
     ]
    }
   ],
   "source": [
    "cards_sampled = env.card_sampler.sample_card(4)\n",
    "print(cards_sampled)"
   ]
  },
  {
   "cell_type": "code",
   "execution_count": 19,
   "metadata": {},
   "outputs": [
    {
     "data": {
      "text/plain": [
       "'QcAh6sAs'"
      ]
     },
     "execution_count": 19,
     "metadata": {},
     "output_type": "execute_result"
    }
   ],
   "source": [
    "env.card_abstraction.abstract(cards_sampled)"
   ]
  },
  {
   "cell_type": "code",
   "execution_count": 20,
   "metadata": {},
   "outputs": [],
   "source": [
    "# TODO 写strategy 和trainer,修改abstraction算法\n",
    "# TODO 每层都需要用不同的action choice"
   ]
  },
  {
   "cell_type": "code",
   "execution_count": 148,
   "metadata": {},
   "outputs": [],
   "source": [
    "from cython.parallel import prange, parallel, threadid\n",
    "import time\n",
    "import multiprocessing"
   ]
  },
  {
   "cell_type": "code",
   "execution_count": 170,
   "metadata": {},
   "outputs": [],
   "source": [
    "import utils.utils as utils\n",
    "pb = utils.ProgressBar(worksum=5)\n",
    "pb.startjob()\n",
    "\n",
    "def func(msg):\n",
    "    time.sleep(3)\n",
    "    pb.complete(1)\n",
    "    return msg"
   ]
  },
  {
   "cell_type": "code",
   "execution_count": 171,
   "metadata": {},
   "outputs": [
    {
     "name": "stdout",
     "output_type": "stream",
     "text": [
      "Mark~ Mark~ Mark~~~~~~~~~~~~~~~~~~~~~~\n",
      " 20.00 % [==========>----------------------------------------] 1/5 \t used:3s eta:12 sSub-process(es) done.\n",
      "6.151718616485596\n"
     ]
    }
   ],
   "source": [
    "t1 = time.time()\n",
    "pool = multiprocessing.Pool(processes = 3)\n",
    "results = []\n",
    "for i in range(5):\n",
    "    msg = \"hello %d\" %(i)\n",
    "    one_res = pool.apply_async(func, (msg, ))   #维持执行的进程总数为processes，当一个进程执行完毕后会添加新的进程进去\n",
    "    results.append(one_res)\n",
    "print (\"Mark~ Mark~ Mark~~~~~~~~~~~~~~~~~~~~~~\")\n",
    "pool.close()\n",
    "pool.join()   #调用join之前，先调用close函数，否则会出错。执行完close后不会有新的进程加入到pool,join函数等待所有子进程结束\n",
    "print(\"Sub-process(es) done.\")\n",
    "for i in range(len(results)):\n",
    "    results[i] = results[i].get()\n",
    "\n",
    "print(time.time() - t1)"
   ]
  },
  {
   "cell_type": "code",
   "execution_count": 159,
   "metadata": {},
   "outputs": [
    {
     "data": {
      "text/plain": [
       "{}"
      ]
     },
     "execution_count": 159,
     "metadata": {},
     "output_type": "execute_result"
    }
   ],
   "source": [
    "alljson"
   ]
  },
  {
   "cell_type": "code",
   "execution_count": 152,
   "metadata": {},
   "outputs": [
    {
     "name": "stdout",
     "output_type": "stream",
     "text": [
      "msg: hello 0\n",
      "end\n",
      "msg: hello 1\n",
      "end\n",
      "msg: hello 2\n",
      "end\n",
      "msg: hello 3\n",
      "end\n",
      "Mark~ Mark~ Mark~~~~~~~~~~~~~~~~~~~~~~\n",
      "Sub-process(es) done.\n",
      "12.016242265701294\n"
     ]
    }
   ],
   "source": [
    "t1 = time.time()\n",
    "for i in range(4):\n",
    "    msg = \"hello %d\" %(i)\n",
    "    func(msg)   #维持执行的进程总数为processes，当一个进程执行完毕后会添加新的进程进去\n",
    "print (\"Mark~ Mark~ Mark~~~~~~~~~~~~~~~~~~~~~~\")\n",
    "print(\"Sub-process(es) done.\")\n",
    "\n",
    "print(time.time() - t1)"
   ]
  },
  {
   "cell_type": "code",
   "execution_count": null,
   "metadata": {},
   "outputs": [],
   "source": []
  }
 ],
 "metadata": {
  "kernelspec": {
   "display_name": "Python 3",
   "language": "python",
   "name": "python3"
  },
  "language_info": {
   "codemirror_mode": {
    "name": "ipython",
    "version": 3
   },
   "file_extension": ".py",
   "mimetype": "text/x-python",
   "name": "python",
   "nbconvert_exporter": "python",
   "pygments_lexer": "ipython3",
   "version": "3.6.8"
  }
 },
 "nbformat": 4,
 "nbformat_minor": 2
}
