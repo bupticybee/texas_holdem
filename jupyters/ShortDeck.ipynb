{
 "cells": [
  {
   "cell_type": "code",
   "execution_count": 1,
   "metadata": {},
   "outputs": [],
   "source": [
    "%load_ext autoreload\n",
    "%autoreload 2\n",
    "%load_ext line_profiler\n",
    "%matplotlib inline\n",
    "\n",
    "import sys\n",
    "import os\n",
    "import yaml\n",
    "import itertools\n",
    "sys.path.append('../')\n",
    "from utils.utils import ModelLoader,DepLoader\n",
    "from matplotlib import pyplot as plt\n",
    "from timeit import timeit  "
   ]
  },
  {
   "cell_type": "code",
   "execution_count": 2,
   "metadata": {},
   "outputs": [
    {
     "name": "stderr",
     "output_type": "stream",
     "text": [
      "/root/anaconda3/envs/py36/lib/python3.6/site-packages/ipykernel_launcher.py:2: YAMLLoadWarning: calling yaml.load() without Loader=... is deprecated, as the default Loader is unsafe. Please read https://msg.pyyaml.org/load for full details.\n",
      "  \n"
     ]
    }
   ],
   "source": [
    "with open('../config/rule_shortdeck.yaml') as fhdl:\n",
    "    cfg = yaml.load(fhdl)"
   ]
  },
  {
   "cell_type": "code",
   "execution_count": 3,
   "metadata": {},
   "outputs": [
    {
     "name": "stdout",
     "output_type": "stream",
     "text": [
      "\n",
      "Loading abstraction file: PHS1_PREFLOP.txt  100.00 % [==================================================>] 630/630 \t used:0s eta:0 s\n",
      "Loading abstraction file: PHS1_FLOP_300buckets.txt  100.08 % [==================================================>] 3772769/3769920 \t used:6s eta:0 s\n",
      "Loading abstraction file: PHS1_TURN_300buckets.txt  100.10 % [==================================================>] 29245216/29216880 \t used:54s eta:0 s\n",
      "Loading abstraction file: PHS1_RIVER_300buckets.txt  100.10 % [==================================================>] 175476301/175301280 \t used:332s eta:0 s"
     ]
    }
   ],
   "source": [
    "env = DepLoader(cfg)"
   ]
  },
  {
   "cell_type": "raw",
   "metadata": {},
   "source": [
    "plt.figure(figsize=(240,40))\n",
    "env.tree_builder.plot_tree(depth_limit=5)\n",
    "plt.savefig('../imgs/tree_limit5.png')"
   ]
  },
  {
   "cell_type": "raw",
   "metadata": {},
   "source": [
    "depth = 6\n",
    "json = env.tree_builder.gen_km_json(\"../imgs/tree_depth{}.km\".format(depth),limit=depth,ret_json=True)"
   ]
  },
  {
   "cell_type": "markdown",
   "metadata": {},
   "source": [
    "# 查看游戏总状态数"
   ]
  },
  {
   "cell_type": "code",
   "execution_count": 109,
   "metadata": {},
   "outputs": [],
   "source": [
    "hiss = []\n",
    "roots = []\n",
    "nonterminals = []\n",
    "actions = []\n",
    "def count_dealcard(root,depth=0):\n",
    "    if root.children is not None:\n",
    "        num = 0\n",
    "        actions.append(root.bet_history)\n",
    "        for one_child in root.children.values():\n",
    "            num += count_dealcard(one_child)\n",
    "        return num\n",
    "    else:\n",
    "        if 'terminal' in root.to_string():\n",
    "            hiss.append(root.bet_history)\n",
    "            roots.append(root)\n",
    "        else:\n",
    "            nonterminals.append(root.bet_history)\n",
    "        return 0 if 'terminal' in root.to_string() else 1"
   ]
  },
  {
   "cell_type": "code",
   "execution_count": 110,
   "metadata": {},
   "outputs": [
    {
     "data": {
      "text/plain": [
       "47662"
      ]
     },
     "execution_count": 110,
     "metadata": {},
     "output_type": "execute_result"
    }
   ],
   "source": [
    "count_dealcard(env.tree_builder.root)"
   ]
  },
  {
   "cell_type": "code",
   "execution_count": 111,
   "metadata": {},
   "outputs": [
    {
     "data": {
      "text/plain": [
       "61385"
      ]
     },
     "execution_count": 111,
     "metadata": {},
     "output_type": "execute_result"
    }
   ],
   "source": [
    "len(actions)"
   ]
  },
  {
   "cell_type": "code",
   "execution_count": 112,
   "metadata": {},
   "outputs": [
    {
     "name": "stdout",
     "output_type": "stream",
     "text": [
      "942 ms ± 20.2 ms per loop (mean ± std. dev. of 7 runs, 1 loop each)\n"
     ]
    }
   ],
   "source": [
    "%timeit count_dealcard(env.tree_builder.root)"
   ]
  },
  {
   "cell_type": "code",
   "execution_count": 113,
   "metadata": {},
   "outputs": [],
   "source": [
    "#%lprun -f count_dealcard count_dealcard(env.tree_builder.root)"
   ]
  },
  {
   "cell_type": "code",
   "execution_count": 114,
   "metadata": {},
   "outputs": [
    {
     "data": {
      "text/plain": [
       "428958"
      ]
     },
     "execution_count": 114,
     "metadata": {},
     "output_type": "execute_result"
    }
   ],
   "source": [
    "len(hiss)"
   ]
  },
  {
   "cell_type": "markdown",
   "metadata": {},
   "source": [
    "# 查看叶子节点的bet history"
   ]
  },
  {
   "cell_type": "code",
   "execution_count": 115,
   "metadata": {},
   "outputs": [
    {
     "name": "stdout",
     "output_type": "stream",
     "text": [
      "['call', 'check', 'check', 'bet_1', 'raise_2', 'raise_5', 'call', 'check', 'bet_7', 'raise_21', 'raise_84', 'call', 'check', 'bet_2', 'fold']\n",
      "[100.0, 98.0]\n"
     ]
    }
   ],
   "source": [
    "index = 5000 + 1\n",
    "print(hiss[index])\n",
    "print(roots[index].committed)"
   ]
  },
  {
   "cell_type": "markdown",
   "metadata": {},
   "source": [
    "# 查看card abstraction 工作状态"
   ]
  },
  {
   "cell_type": "code",
   "execution_count": 12,
   "metadata": {},
   "outputs": [
    {
     "name": "stdout",
     "output_type": "stream",
     "text": [
      "['Qc', '9s', '6c', '7h']\n"
     ]
    }
   ],
   "source": [
    "cards_sampled = env.card_sampler.sample_card(4)\n",
    "print(cards_sampled)"
   ]
  },
  {
   "cell_type": "code",
   "execution_count": 13,
   "metadata": {},
   "outputs": [
    {
     "data": {
      "text/plain": [
       "'Qc9s6c7h'"
      ]
     },
     "execution_count": 13,
     "metadata": {},
     "output_type": "execute_result"
    }
   ],
   "source": [
    "env.card_abstraction.abstract(cards_sampled)"
   ]
  },
  {
   "cell_type": "code",
   "execution_count": 20,
   "metadata": {},
   "outputs": [],
   "source": [
    "# TODO 写strategy 和trainer,修改abstraction算法\n",
    "# TODO 每层都需要用不同的action choice"
   ]
  },
  {
   "cell_type": "code",
   "execution_count": 5,
   "metadata": {},
   "outputs": [],
   "source": [
    "from pyemd import emd\n",
    "import numpy as np"
   ]
  },
  {
   "cell_type": "code",
   "execution_count": 26,
   "metadata": {},
   "outputs": [
    {
     "data": {
      "text/plain": [
       "2.999994"
      ]
     },
     "execution_count": 26,
     "metadata": {},
     "output_type": "execute_result"
    }
   ],
   "source": [
    "first_histogram = np.array([0.0, 5.0,1.0])\n",
    "second_histogram = np.array([2.0, 4.0,0.0])\n",
    "distance_matrix = np.array([[0.0, 1.0, 2.0],\n",
    "                            [1.0, 0.0, 1.0],\n",
    "                            [2.0, 1.0, 0.0]])\n",
    "emd(first_histogram, second_histogram, distance_matrix)"
   ]
  },
  {
   "cell_type": "code",
   "execution_count": 94,
   "metadata": {},
   "outputs": [
    {
     "name": "stdout",
     "output_type": "stream",
     "text": [
      "              total        used        free      shared  buff/cache   available\n",
      "Mem:       61848116    41441368    19441124        5324      965624    19921324\n",
      "Swap:             0           0           0\n"
     ]
    }
   ],
   "source": [
    "!free"
   ]
  },
  {
   "cell_type": "code",
   "execution_count": 95,
   "metadata": {},
   "outputs": [],
   "source": [
    "!mkdir ../data/abstractions"
   ]
  },
  {
   "cell_type": "code",
   "execution_count": 14,
   "metadata": {},
   "outputs": [
    {
     "name": "stdout",
     "output_type": "stream",
     "text": [
      "8d-Jc:6c-6d-7c-7d-9c\n"
     ]
    },
    {
     "data": {
      "text/plain": [
       "9"
      ]
     },
     "execution_count": 14,
     "metadata": {},
     "output_type": "execute_result"
    }
   ],
   "source": [
    "public = ('6c', '6d', '7c', '7d', '9c')\n",
    "private = ('8d','Jc')\n",
    "env.card_abstraction.abstract((private,public))"
   ]
  },
  {
   "cell_type": "code",
   "execution_count": null,
   "metadata": {},
   "outputs": [],
   "source": []
  }
 ],
 "metadata": {
  "kernelspec": {
   "display_name": "Python 3",
   "language": "python",
   "name": "python3"
  },
  "language_info": {
   "codemirror_mode": {
    "name": "ipython",
    "version": 3
   },
   "file_extension": ".py",
   "mimetype": "text/x-python",
   "name": "python",
   "nbconvert_exporter": "python",
   "pygments_lexer": "ipython3",
   "version": "3.6.8"
  }
 },
 "nbformat": 4,
 "nbformat_minor": 2
}
