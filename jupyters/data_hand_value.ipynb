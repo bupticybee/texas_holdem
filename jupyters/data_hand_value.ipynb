{
 "cells": [
  {
   "cell_type": "code",
   "execution_count": null,
   "metadata": {
    "slideshow": {
     "slide_type": "-"
    }
   },
   "outputs": [],
   "source": [
    "from deuces import Evaluator,Card\n",
    "import deuces\n",
    "from scipy.special import comb, perm\n",
    "import scipy\n",
    "import itertools\n",
    "import sys\n",
    "import os\n",
    "import time\n",
    "from matplotlib import pyplot as plt\n",
    "sys.path.append('../utils/')\n",
    "import utils\n",
    "from sklearn.externals import joblib\n",
    "%matplotlib inline\n",
    "%load_ext autoreload\n",
    "%autoreload 2"
   ]
  },
  {
   "cell_type": "code",
   "execution_count": 3,
   "metadata": {},
   "outputs": [],
   "source": [
    "import pandas as pd"
   ]
  },
  {
   "cell_type": "code",
   "execution_count": null,
   "metadata": {},
   "outputs": [],
   "source": [
    "board = [\n",
    "]\n",
    "hand = [\n",
    "   Card.new('Qh'),\n",
    "   Card.new('Th'),\n",
    "     Card.new('9h'),\n",
    "     Card.new('Kh'),\n",
    "     Card.new('Jh'),\n",
    "     Card.new('Jd'),\n",
    "     Card.new('Jc'),\n",
    "]"
   ]
  },
  {
   "cell_type": "code",
   "execution_count": null,
   "metadata": {},
   "outputs": [],
   "source": [
    "Card.new('Qh')"
   ]
  },
  {
   "cell_type": "code",
   "execution_count": null,
   "metadata": {
    "collapsed": true
   },
   "outputs": [],
   "source": [
    "evaluator = Evaluator()"
   ]
  },
  {
   "cell_type": "code",
   "execution_count": null,
   "metadata": {},
   "outputs": [],
   "source": [
    "print evaluator.evaluate(board, hand)"
   ]
  },
  {
   "cell_type": "markdown",
   "metadata": {},
   "source": [
    "# how many iters are there?"
   ]
  },
  {
   "cell_type": "code",
   "execution_count": null,
   "metadata": {},
   "outputs": [],
   "source": [
    "comb(52,7) * 2 / 1024 / 1024"
   ]
  },
  {
   "cell_type": "code",
   "execution_count": null,
   "metadata": {},
   "outputs": [],
   "source": [
    "2 ** 16"
   ]
  },
  {
   "cell_type": "markdown",
   "metadata": {},
   "source": [
    "# create five card comb dict and write to disk"
   ]
  },
  {
   "cell_type": "code",
   "execution_count": null,
   "metadata": {
    "collapsed": true
   },
   "outputs": [],
   "source": [
    "colors = 'cdhs'\n",
    "numbers = '23456789TJQKA'"
   ]
  },
  {
   "cell_type": "code",
   "execution_count": null,
   "metadata": {},
   "outputs": [],
   "source": [
    "cards = [''.join(i) for i in  list(itertools.product(numbers,colors))]"
   ]
  },
  {
   "cell_type": "code",
   "execution_count": null,
   "metadata": {},
   "outputs": [],
   "source": [
    "len(cards)"
   ]
  },
  {
   "cell_type": "code",
   "execution_count": null,
   "metadata": {},
   "outputs": [],
   "source": [
    "pb = utils.ProgressBar(worksum = comb(52,5))\n",
    "pb.startjob()\n",
    "evaluator = Evaluator()\n",
    "card5_dic = {}\n",
    "iternum = 0\n",
    "for each in itertools.combinations(cards,5):\n",
    "    iternum += 1\n",
    "    board = [\n",
    "    ]\n",
    "    hand = [\n",
    "       Card.new(i) for i in each\n",
    "    ]\n",
    "    val = evaluator.evaluate(board, hand)\n",
    "    card5_dic[each] = val\n",
    "    if iternum % 1000 == 0:\n",
    "        pb.complete(1000)\n",
    "    \n"
   ]
  },
  {
   "cell_type": "code",
   "execution_count": null,
   "metadata": {},
   "outputs": [],
   "source": [
    "joblib.dump(card5_dic, '../data/card5_dic.pkl')"
   ]
  },
  {
   "cell_type": "code",
   "execution_count": null,
   "metadata": {},
   "outputs": [],
   "source": [
    "pb = utils.ProgressBar(worksum = comb(52,7))\n",
    "pb.startjob()\n",
    "evaluator = Evaluator()\n",
    "card7_dic = {}\n",
    "iternum = 0\n",
    "for each in itertools.combinations(cards,7):\n",
    "    iternum += 1\n",
    "    board = [\n",
    "    ]\n",
    "    hand = [\n",
    "       Card.new(i) for i in each\n",
    "    ]\n",
    "    val = evaluator.evaluate(board, hand)\n",
    "    card7_dic[each] = val\n",
    "    if iternum % 1000 == 0:\n",
    "        pb.complete(1000)\n",
    "    "
   ]
  },
  {
   "cell_type": "code",
   "execution_count": null,
   "metadata": {},
   "outputs": [],
   "source": [
    "joblib.dump(card7_dic, '../data/card7_dic.pkl')"
   ]
  },
  {
   "cell_type": "code",
   "execution_count": null,
   "metadata": {
    "collapsed": true
   },
   "outputs": [],
   "source": []
  }
 ],
 "metadata": {
  "kernelspec": {
   "display_name": "Python 3",
   "language": "python",
   "name": "python3"
  },
  "language_info": {
   "codemirror_mode": {
    "name": "ipython",
    "version": 3
   },
   "file_extension": ".py",
   "mimetype": "text/x-python",
   "name": "python",
   "nbconvert_exporter": "python",
   "pygments_lexer": "ipython3",
   "version": "3.6.8"
  }
 },
 "nbformat": 4,
 "nbformat_minor": 2
}
