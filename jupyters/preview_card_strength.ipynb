{
 "cells": [
  {
   "cell_type": "code",
   "execution_count": 10,
   "metadata": {},
   "outputs": [],
   "source": [
    "from sklearn.externals import joblib\n",
    "from scipy.special import comb, perm\n",
    "import os\n",
    "import sys\n",
    "import time\n",
    "sys.path.append('../')\n",
    "from utils import utils"
   ]
  },
  {
   "cell_type": "code",
   "execution_count": 2,
   "metadata": {},
   "outputs": [
    {
     "data": {
      "text/plain": [
       "2598960.0"
      ]
     },
     "execution_count": 2,
     "metadata": {},
     "output_type": "execute_result"
    }
   ],
   "source": [
    "comb(52,5)"
   ]
  },
  {
   "cell_type": "code",
   "execution_count": 24,
   "metadata": {},
   "outputs": [
    {
     "name": "stdout",
     "output_type": "stream",
     "text": [
      "-rw-r--r-- 1 root root 51981203 Jun 16 12:11 ../data/card5_dic.pkl\n"
     ]
    }
   ],
   "source": [
    "!ls -l ../data/card5_dic.pkl"
   ]
  },
  {
   "cell_type": "code",
   "execution_count": 25,
   "metadata": {},
   "outputs": [],
   "source": [
    "card5_dic = joblib.load('../data/card5_dic.pkl')"
   ]
  },
  {
   "cell_type": "code",
   "execution_count": 4,
   "metadata": {},
   "outputs": [
    {
     "data": {
      "text/plain": [
       "2598960"
      ]
     },
     "execution_count": 4,
     "metadata": {},
     "output_type": "execute_result"
    }
   ],
   "source": [
    "len(card5_dic)"
   ]
  },
  {
   "cell_type": "code",
   "execution_count": 5,
   "metadata": {},
   "outputs": [
    {
     "data": {
      "text/plain": [
       "[(('2d', '4c', '4d', 'Kh', 'Ad'), 5535),\n",
       " (('4d', '5s', '6c', '9h', 'Th'), 7366),\n",
       " (('6h', '7d', '7s', '9s', 'Tc'), 5031),\n",
       " (('3c', '3d', '3s', '5h', 'Ts'), 2378),\n",
       " (('2s', '5c', '7h', '9c', 'Kd'), 6959)]"
      ]
     },
     "execution_count": 5,
     "metadata": {},
     "output_type": "execute_result"
    }
   ],
   "source": [
    "list(card5_dic.items())[:5]"
   ]
  },
  {
   "cell_type": "code",
   "execution_count": 6,
   "metadata": {},
   "outputs": [
    {
     "name": "stdout",
     "output_type": "stream",
     "text": [
      "-rw-r--r-- 1 root root 51981203 Jun 16 12:11 ../data/card5_dic.pkl\n"
     ]
    }
   ],
   "source": [
    "!ls -l ../data/card5_dic.pkl"
   ]
  },
  {
   "cell_type": "code",
   "execution_count": 6,
   "metadata": {},
   "outputs": [],
   "source": [
    "keys = list(card5_dic.keys())"
   ]
  },
  {
   "cell_type": "code",
   "execution_count": 23,
   "metadata": {},
   "outputs": [
    {
     "name": "stdout",
     "output_type": "stream",
     "text": [
      "0.12545013427734375\n"
     ]
    }
   ],
   "source": [
    "t1 = time.time()\n",
    "for x in range(10):\n",
    "    for i in range(1000):\n",
    "        for j in range(42):\n",
    "            card5_dic[keys[i * 42 + j]]\n",
    "    \n",
    "print(time.time() - t1)"
   ]
  },
  {
   "cell_type": "code",
   "execution_count": 29,
   "metadata": {},
   "outputs": [],
   "source": [
    "card_dic_sorted = {}\n",
    "for i in card5_dic:\n",
    "    i_sorted = sorted(i)\n",
    "    card_dic_sorted[tuple(i_sorted)] = card5_dic[i]"
   ]
  },
  {
   "cell_type": "code",
   "execution_count": 30,
   "metadata": {},
   "outputs": [
    {
     "data": {
      "text/plain": [
       "['../data/card5_dic_sorted.pkl']"
      ]
     },
     "execution_count": 30,
     "metadata": {},
     "output_type": "execute_result"
    }
   ],
   "source": [
    "joblib.dump(card_dic_sorted, '../data/card5_dic_sorted.pkl')"
   ]
  },
  {
   "cell_type": "code",
   "execution_count": 34,
   "metadata": {},
   "outputs": [],
   "source": [
    "with open('../data/card5_dic_sorted.txt','w') as whdl:\n",
    "    for i in card_dic_sorted:\n",
    "        whdl.write(\"{},{}\\n\".format('-'.join(i),card_dic_sorted[i]))"
   ]
  },
  {
   "cell_type": "markdown",
   "metadata": {},
   "source": [
    "# 查看txt格式和pkl格式读取时间"
   ]
  },
  {
   "cell_type": "code",
   "execution_count": 45,
   "metadata": {},
   "outputs": [
    {
     "name": "stdout",
     "output_type": "stream",
     "text": [
      "5.409371376037598\n"
     ]
    }
   ],
   "source": [
    "t1 = time.time()\n",
    "readed_dic = {}\n",
    "with open('../data/card5_dic_sorted.txt') as fhdl:\n",
    "    for line in fhdl:\n",
    "        cards,rank = line.strip().split(',')\n",
    "        rank = int(rank)\n",
    "        cards = tuple(cards.split('-'))\n",
    "        readed_dic[cards] = rank\n",
    "print(time.time() - t1)"
   ]
  },
  {
   "cell_type": "code",
   "execution_count": 37,
   "metadata": {},
   "outputs": [
    {
     "name": "stdout",
     "output_type": "stream",
     "text": [
      "23.98987889289856\n"
     ]
    }
   ],
   "source": [
    "t1 = time.time()\n",
    "card5_dic = joblib.load('../data/card5_dic.pkl')\n",
    "print(time.time() - t1)"
   ]
  },
  {
   "cell_type": "code",
   "execution_count": 40,
   "metadata": {},
   "outputs": [
    {
     "data": {
      "text/plain": [
       "(2598960, 2598960)"
      ]
     },
     "execution_count": 40,
     "metadata": {},
     "output_type": "execute_result"
    }
   ],
   "source": [
    "len(card5_dic),len(readed_dic)"
   ]
  },
  {
   "cell_type": "code",
   "execution_count": null,
   "metadata": {},
   "outputs": [],
   "source": []
  }
 ],
 "metadata": {
  "kernelspec": {
   "display_name": "Python 3",
   "language": "python",
   "name": "python3"
  },
  "language_info": {
   "codemirror_mode": {
    "name": "ipython",
    "version": 3
   },
   "file_extension": ".py",
   "mimetype": "text/x-python",
   "name": "python",
   "nbconvert_exporter": "python",
   "pygments_lexer": "ipython3",
   "version": "3.6.8"
  }
 },
 "nbformat": 4,
 "nbformat_minor": 2
}
