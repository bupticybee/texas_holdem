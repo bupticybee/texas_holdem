{
 "cells": [
  {
   "cell_type": "code",
   "execution_count": 6,
   "metadata": {},
   "outputs": [],
   "source": [
    "%reload_ext autoreload\n",
    "%autoreload 2\n",
    "import gym\n",
    "import holdem\n",
    "from holdem.utils import action_table"
   ]
  },
  {
   "cell_type": "code",
   "execution_count": 16,
   "metadata": {},
   "outputs": [],
   "source": [
    "def play_out_hand(env, n_seats):\n",
    "    # reset environment, gather relevant observations\n",
    "    (player_states, (community_infos, community_cards)) = env.reset()\n",
    "    (player_infos, player_hands) = zip(*player_states)\n",
    "\n",
    "    # display the table, cards and all\n",
    "    #env.render(mode='human')\n",
    "\n",
    "    terminal = False\n",
    "    while not terminal:\n",
    "        # play safe actions, check when noone else has raised, call when raised.\n",
    "        actions = holdem.safe_actions(community_infos, n_seats=n_seats)\n",
    "        actions = env.action_space.sample()\n",
    "        (player_states, (community_infos, community_cards)), rews, terminal, info = env.step(actions)\n",
    "        env.render(mode='human')\n",
    "        print('-' * 30)"
   ]
  },
  {
   "cell_type": "code",
   "execution_count": 13,
   "metadata": {},
   "outputs": [
    {
     "name": "stdout",
     "output_type": "stream",
     "text": [
      "total pot: 85\n",
      "last action by player 0:\n",
      "\u001b[32m^ raise, current bet: 50\u001b[0m\n",
      "community:\n",
      "- [  ],[  ],[  ],[  ],[  ] \n",
      "players:\n",
      "0 [T♣],[Q\u001b[31m♥\u001b[0m] stack: 1940\n",
      "1 [A\u001b[31m♥\u001b[0m],[T♠] stack: 1975\n",
      "------------------------------\n",
      "total pot: 170\n",
      "last action by player 1:\n",
      "\u001b[32m^ raise, current bet: 85\u001b[0m\n",
      "community:\n",
      "- [  ],[  ],[  ],[  ],[  ] \n",
      "players:\n",
      "0 [T♣],[Q\u001b[31m♥\u001b[0m] stack: 1940\n",
      "1 [A\u001b[31m♥\u001b[0m],[T♠] stack: 1890\n",
      "------------------------------\n",
      "total pot: 220\n",
      "last action by player 0:\n",
      "\u001b[33m- call, current bet: 0\u001b[0m\n",
      "community:\n",
      "- [5♠],[J♣],[3♠],[  ],[  ] \n",
      "players:\n",
      "0 [T♣],[Q\u001b[31m♥\u001b[0m] stack: 1890\n",
      "1 [A\u001b[31m♥\u001b[0m],[T♠] stack: 1890\n",
      "------------------------------\n"
     ]
    }
   ],
   "source": [
    "\n",
    "env =  holdem.TexasHoldemEnv(2)\n",
    "\n",
    "# start with 2 players\n",
    "env.add_player(0, stack=2000) # add a player to seat 0 with 2000 \"chips\"\n",
    "env.add_player(1, stack=2000) # add another player to seat 1 with 2000 \"chips\"\n",
    "\n",
    "(player_states, (community_infos, community_cards)) = env.reset()\n",
    "(player_infos, player_hands) = zip(*player_states)\n",
    "\n",
    "# display the table, cards and all\n",
    "#env.render(mode='human')\n",
    "\n",
    "terminal = False\n",
    "\n",
    "\n",
    "#actions = holdem.safe_actions(community_infos, n_seats=n_seats)\n",
    "actions = [[action_table.RAISE,50],[action_table.RAISE,50]]\n",
    "(player_states, (community_infos, community_cards)), rews, terminal, info = env.step(actions)\n",
    "env.render(mode='human')\n",
    "print('-' * 30)\n",
    "\n",
    "actions = [[action_table.RAISE,85],[action_table.RAISE,85]]\n",
    "(player_states, (community_infos, community_cards)), rews, terminal, info = env.step(actions)\n",
    "env.render(mode='human')\n",
    "print('-' * 30)\n",
    "\n",
    "actions = [[action_table.CALL,action_table.NA],[action_table.CALL,action_table.NA]]\n",
    "(player_states, (community_infos, community_cards)), rews, terminal, info = env.step(actions)\n",
    "env.render(mode='human')\n",
    "print('-' * 30)"
   ]
  },
  {
   "cell_type": "code",
   "execution_count": 18,
   "metadata": {},
   "outputs": [
    {
     "data": {
      "text/plain": [
       "(array([    1, 91831]), array([    0, 39679]))"
      ]
     },
     "execution_count": 18,
     "metadata": {},
     "output_type": "execute_result"
    }
   ],
   "source": [
    "env.action_space.sample()"
   ]
  },
  {
   "cell_type": "code",
   "execution_count": null,
   "metadata": {},
   "outputs": [],
   "source": []
  }
 ],
 "metadata": {
  "kernelspec": {
   "display_name": "Python 3",
   "language": "python",
   "name": "python3"
  },
  "language_info": {
   "codemirror_mode": {
    "name": "ipython",
    "version": 3
   },
   "file_extension": ".py",
   "mimetype": "text/x-python",
   "name": "python",
   "nbconvert_exporter": "python",
   "pygments_lexer": "ipython3",
   "version": "3.6.2"
  }
 },
 "nbformat": 4,
 "nbformat_minor": 2
}
