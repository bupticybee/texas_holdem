{
 "cells": [
  {
   "cell_type": "code",
   "execution_count": 1,
   "metadata": {},
   "outputs": [],
   "source": [
    "%load_ext autoreload\n",
    "%autoreload 2\n",
    "%load_ext line_profiler\n",
    "%matplotlib inline\n",
    "\n",
    "import sys\n",
    "import os\n",
    "import yaml\n",
    "import itertools\n",
    "sys.path.append('../')\n",
    "from utils.utils import ModelLoader,DepLoader\n",
    "from matplotlib import pyplot as plt\n",
    "from timeit import timeit  "
   ]
  },
  {
   "cell_type": "code",
   "execution_count": 2,
   "metadata": {},
   "outputs": [
    {
     "name": "stderr",
     "output_type": "stream",
     "text": [
      "/root/anaconda3/envs/py36/lib/python3.6/site-packages/ipykernel_launcher.py:2: YAMLLoadWarning: calling yaml.load() without Loader=... is deprecated, as the default Loader is unsafe. Please read https://msg.pyyaml.org/load for full details.\n",
      "  \n"
     ]
    }
   ],
   "source": [
    "with open('../config/rule_shortdeck_with_holdemrule.yaml') as fhdl:\n",
    "    cfg = yaml.load(fhdl)"
   ]
  },
  {
   "cell_type": "code",
   "execution_count": 3,
   "metadata": {},
   "outputs": [],
   "source": [
    "env = DepLoader(cfg)"
   ]
  },
  {
   "cell_type": "raw",
   "metadata": {},
   "source": [
    "plt.figure(figsize=(240,40))\n",
    "env.tree_builder.plot_tree(depth_limit=5)\n",
    "plt.savefig('../imgs/tree_limit5.png')"
   ]
  },
  {
   "cell_type": "code",
   "execution_count": 4,
   "metadata": {},
   "outputs": [],
   "source": [
    "depth = 6\n",
    "json = env.tree_builder.gen_km_json(\"../imgs/tree_depth{}.km\".format(depth),limit=depth,ret_json=True)"
   ]
  },
  {
   "cell_type": "markdown",
   "metadata": {},
   "source": [
    "# 查看游戏总状态数"
   ]
  },
  {
   "cell_type": "code",
   "execution_count": 5,
   "metadata": {},
   "outputs": [],
   "source": [
    "hiss = []\n",
    "roots = []\n",
    "def count_dealcard(root,depth=0):\n",
    "    if root.children is not None:\n",
    "        num = 0\n",
    "        for one_child in root.children.values():\n",
    "            num += count_dealcard(one_child)\n",
    "        return num\n",
    "    else:\n",
    "        if 'terminal' in root.to_string():\n",
    "            hiss.append(root.bet_history)\n",
    "            roots.append(root)\n",
    "        return 0 if 'terminal' in root.to_string() else 1"
   ]
  },
  {
   "cell_type": "code",
   "execution_count": 6,
   "metadata": {},
   "outputs": [
    {
     "data": {
      "text/plain": [
       "47662"
      ]
     },
     "execution_count": 6,
     "metadata": {},
     "output_type": "execute_result"
    }
   ],
   "source": [
    "count_dealcard(env.tree_builder.root)"
   ]
  },
  {
   "cell_type": "code",
   "execution_count": 7,
   "metadata": {},
   "outputs": [
    {
     "name": "stdout",
     "output_type": "stream",
     "text": [
      "891 ms ± 2.52 ms per loop (mean ± std. dev. of 7 runs, 1 loop each)\n"
     ]
    }
   ],
   "source": [
    "%timeit count_dealcard(env.tree_builder.root)"
   ]
  },
  {
   "cell_type": "code",
   "execution_count": 8,
   "metadata": {},
   "outputs": [
    {
     "data": {
      "text/plain": [
       "Timer unit: 1e-06 s\n",
       "\n",
       "Total time: 1.82193 s\n",
       "File: <ipython-input-5-3dbdc1fb9032>\n",
       "Function: count_dealcard at line 3\n",
       "\n",
       "Line #      Hits         Time  Per Hit   % Time  Line Contents\n",
       "==============================================================\n",
       "     3                                           def count_dealcard(root,depth=0):\n",
       "     4    156709        83402      0.5      4.6      if root.children is not None:\n",
       "     5     61385        23555      0.4      1.3          num = 0\n",
       "     6    218093       115805      0.5      6.4          for one_child in root.children.values():\n",
       "     7    156708        76103      0.5      4.2              num += count_dealcard(one_child)\n",
       "     8     61385        22854      0.4      1.3          return num\n",
       "     9                                               else:\n",
       "    10     95324       751080      7.9     41.2          if 'terminal' in root.to_string():\n",
       "    11     47662        28820      0.6      1.6              hiss.append(root.bet_history)\n",
       "    12     47662        23456      0.5      1.3              roots.append(root)\n",
       "    13     95324       696858      7.3     38.2          return 0 if 'terminal' in root.to_string() else 1"
      ]
     },
     "metadata": {},
     "output_type": "display_data"
    }
   ],
   "source": [
    "%lprun -f count_dealcard count_dealcard(env.tree_builder.root)"
   ]
  },
  {
   "cell_type": "code",
   "execution_count": 9,
   "metadata": {},
   "outputs": [
    {
     "data": {
      "text/plain": [
       "476620"
      ]
     },
     "execution_count": 9,
     "metadata": {},
     "output_type": "execute_result"
    }
   ],
   "source": [
    "len(hiss)"
   ]
  },
  {
   "cell_type": "markdown",
   "metadata": {},
   "source": [
    "# 查看叶子节点的bet history"
   ]
  },
  {
   "cell_type": "code",
   "execution_count": 10,
   "metadata": {},
   "outputs": [
    {
     "name": "stdout",
     "output_type": "stream",
     "text": [
      "['call', 'check', 'check', 'bet_1', 'raise_2', 'raise_5', 'call', 'check', 'bet_7', 'raise_21', 'raise_84', 'call', 'check', 'bet_2', 'fold']\n",
      "[100.0, 98.0]\n"
     ]
    }
   ],
   "source": [
    "index = 5000 + 1\n",
    "print(hiss[index])\n",
    "print(roots[index].committed)"
   ]
  },
  {
   "cell_type": "markdown",
   "metadata": {},
   "source": [
    "# 查看card abstraction 工作状态"
   ]
  },
  {
   "cell_type": "code",
   "execution_count": 18,
   "metadata": {},
   "outputs": [
    {
     "name": "stdout",
     "output_type": "stream",
     "text": [
      "['Qc', 'Ah', '6s', 'As']\n"
     ]
    }
   ],
   "source": [
    "cards_sampled = env.card_sampler.sample_card(4)\n",
    "print(cards_sampled)"
   ]
  },
  {
   "cell_type": "code",
   "execution_count": 19,
   "metadata": {},
   "outputs": [
    {
     "data": {
      "text/plain": [
       "'QcAh6sAs'"
      ]
     },
     "execution_count": 19,
     "metadata": {},
     "output_type": "execute_result"
    }
   ],
   "source": [
    "env.card_abstraction.abstract(cards_sampled)"
   ]
  },
  {
   "cell_type": "code",
   "execution_count": 20,
   "metadata": {},
   "outputs": [],
   "source": [
    "# TODO 写strategy 和trainer,修改abstraction算法\n",
    "# TODO 每层都需要用不同的action choice"
   ]
  },
  {
   "cell_type": "code",
   "execution_count": 99,
   "metadata": {},
   "outputs": [],
   "source": [
    "bits = int('0b11111', 2)"
   ]
  },
  {
   "cell_type": "code",
   "execution_count": 100,
   "metadata": {},
   "outputs": [
    {
     "data": {
      "text/plain": [
       "31"
      ]
     },
     "execution_count": 100,
     "metadata": {},
     "output_type": "execute_result"
    }
   ],
   "source": [
    "bits"
   ]
  },
  {
   "cell_type": "code",
   "execution_count": 101,
   "metadata": {},
   "outputs": [],
   "source": [
    "def get_lexographically_next_bit_sequence( bits):\n",
    "    \"\"\"\n",
    "    Bit hack from here:\n",
    "    http://www-graphics.stanford.edu/~seander/bithacks.html#NextBitPermutation\n",
    "\n",
    "    Generator even does this in poker order rank \n",
    "    so no need to sort when done! Perfect.\n",
    "    \"\"\"\n",
    "    t = (bits | (bits - 1)) + 1 \n",
    "    next = t | ((((t & -t) // (bits & -bits)) >> 1) - 1)  \n",
    "    yield next\n",
    "    while True:\n",
    "        t = (next | (next - 1)) + 1 \n",
    "        next = t | ((((t & -t) // (next & -next)) >> 1) - 1)\n",
    "        yield next"
   ]
  },
  {
   "cell_type": "code",
   "execution_count": 102,
   "metadata": {},
   "outputs": [],
   "source": [
    "gen = get_lexographically_next_bit_sequence(bits)"
   ]
  },
  {
   "cell_type": "code",
   "execution_count": 114,
   "metadata": {},
   "outputs": [
    {
     "data": {
      "text/plain": [
       "'0b1101011'"
      ]
     },
     "execution_count": 114,
     "metadata": {},
     "output_type": "execute_result"
    }
   ],
   "source": [
    "bin(next(gen))"
   ]
  },
  {
   "cell_type": "code",
   "execution_count": 76,
   "metadata": {},
   "outputs": [],
   "source": [
    "t = (bits | (bits - 1)) + 1 "
   ]
  },
  {
   "cell_type": "code",
   "execution_count": 79,
   "metadata": {},
   "outputs": [
    {
     "data": {
      "text/plain": [
       "47"
      ]
     },
     "execution_count": 79,
     "metadata": {},
     "output_type": "execute_result"
    }
   ],
   "source": [
    "t | ((((t & -t) / (bits & -bits)) >> 1) - 1)  "
   ]
  },
  {
   "cell_type": "code",
   "execution_count": 80,
   "metadata": {},
   "outputs": [
    {
     "data": {
      "text/plain": [
       "32"
      ]
     },
     "execution_count": 80,
     "metadata": {},
     "output_type": "execute_result"
    }
   ],
   "source": [
    "(t & -t) "
   ]
  },
  {
   "cell_type": "code",
   "execution_count": 81,
   "metadata": {},
   "outputs": [
    {
     "data": {
      "text/plain": [
       "1"
      ]
     },
     "execution_count": 81,
     "metadata": {},
     "output_type": "execute_result"
    }
   ],
   "source": [
    "(bits & -bits)"
   ]
  },
  {
   "cell_type": "code",
   "execution_count": null,
   "metadata": {},
   "outputs": [],
   "source": []
  }
 ],
 "metadata": {
  "kernelspec": {
   "display_name": "Python 3",
   "language": "python",
   "name": "python3"
  },
  "language_info": {
   "codemirror_mode": {
    "name": "ipython",
    "version": 3
   },
   "file_extension": ".py",
   "mimetype": "text/x-python",
   "name": "python",
   "nbconvert_exporter": "python",
   "pygments_lexer": "ipython3",
   "version": "3.6.8"
  }
 },
 "nbformat": 4,
 "nbformat_minor": 2
}
